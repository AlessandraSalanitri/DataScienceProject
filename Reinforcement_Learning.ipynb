{
  "nbformat": 4,
  "nbformat_minor": 0,
  "metadata": {
    "colab": {
      "provenance": [],
      "authorship_tag": "ABX9TyPTxukKvGtb23RrTweUA2aC",
      "include_colab_link": true
    },
    "kernelspec": {
      "name": "python3",
      "display_name": "Python 3"
    },
    "language_info": {
      "name": "python"
    }
  },
  "cells": [
    {
      "cell_type": "markdown",
      "metadata": {
        "id": "view-in-github",
        "colab_type": "text"
      },
      "source": [
        "<a href=\"https://colab.research.google.com/github/AlessandraSalanitri/DataScienceProject/blob/main/Reinforcement_Learning.ipynb\" target=\"_parent\"><img src=\"https://colab.research.google.com/assets/colab-badge.svg\" alt=\"Open In Colab\"/></a>"
      ]
    },
    {
      "cell_type": "code",
      "source": [
        "import numpy as np\n",
        "import pandas as pd\n",
        "import random\n",
        "\n",
        "df_cleaned = pd.read_csv(\"processed_medicine_data.csv\")\n",
        "\n",
        "print(df_cleaned.columns)"
      ],
      "metadata": {
        "colab": {
          "base_uri": "https://localhost:8080/"
        },
        "id": "ncEuUsd1zi1u",
        "outputId": "4ec2eec7-9be7-4081-b209-9ee102e93bbc"
      },
      "execution_count": 2,
      "outputs": [
        {
          "output_type": "stream",
          "name": "stdout",
          "text": [
            "Index(['substitute0', 'substitute1', 'substitute2', 'substitute3',\n",
            "       'substitute4', 'use0', 'use1', 'use2', 'use3', 'use4', 'sideEffect0',\n",
            "       'sideEffect1', 'sideEffect2', 'sideEffect3', 'sideEffect4',\n",
            "       'sideEffect5', 'sideEffect6', 'sideEffect7', 'sideEffect8',\n",
            "       'sideEffect9', 'sideEffect10', 'sideEffect11', 'sideEffect12',\n",
            "       'sideEffect13', 'sideEffect14', 'sideEffect15', 'sideEffect16',\n",
            "       'sideEffect17', 'sideEffect18', 'sideEffect19', 'sideEffect20',\n",
            "       'sideEffect21', 'sideEffect22', 'sideEffect23', 'sideEffect24',\n",
            "       'sideEffect25', 'sideEffect26', 'sideEffect27', 'sideEffect28',\n",
            "       'sideEffect29', 'sideEffect30', 'sideEffect31', 'sideEffect32',\n",
            "       'sideEffect33', 'sideEffect34', 'sideEffect35', 'sideEffect36',\n",
            "       'sideEffect37', 'sideEffect38', 'sideEffect39', 'sideEffect40',\n",
            "       'sideEffect41'],\n",
            "      dtype='object')\n"
          ]
        }
      ]
    },
    {
      "cell_type": "code",
      "source": [
        "import gym\n",
        "from gym import spaces\n",
        "\n",
        "class DrugPrescriptionEnv(gym.Env):\n",
        "    \"\"\"Custom Environment for drug prescription and substitution decisions.\"\"\"\n",
        "\n",
        "    def __init__(self, df):\n",
        "        super(DrugPrescriptionEnv, self).__init__()\n",
        "\n",
        "        # create the substitutes dictionary\n",
        "        self.df = df\n",
        "        self.substitutes = self.create_substitutes_dict(df)\n",
        "\n",
        "        # available drugs in the dataset\n",
        "        self.states = list(self.substitutes.keys())\n",
        "        self.state = None  # Current drug\n",
        "\n",
        "        # substitute drug\n",
        "        self.action_space = spaces.Discrete(len(self.states))\n",
        "\n",
        "        self.observation_space = spaces.Discrete(len(self.states))\n",
        "\n",
        "    def create_substitutes_dict(self, df):\n",
        "        \"\"\"Create a dictionary mapping drugs to valid substitutes (excluding 'Unknown').\"\"\"\n",
        "        substitutes_dict = {}\n",
        "\n",
        "        for _, row in df.iterrows():\n",
        "            drug = row[\"substitute0\"]  # Primary drug\n",
        "            substitutes = row[[\"substitute1\", \"substitute2\", \"substitute3\", \"substitute4\"]].dropna().tolist()\n",
        "\n",
        "            # Remove 'Unknown' values- keep only valid substitutes\n",
        "            substitutes = [sub for sub in substitutes if sub.lower() != \"unknown\"]\n",
        "\n",
        "            if substitutes:  # Only store drugs with valid substitutes\n",
        "                substitutes_dict[drug] = substitutes\n",
        "\n",
        "        return substitutes_dict\n",
        "\n",
        "    def reset(self):\n",
        "        \"\"\"Reset the environment by selecting a random drug as the initial state.\"\"\"\n",
        "        self.state = random.choice(self.states)\n",
        "        return self.state\n",
        "\n",
        "    def step(self, action):\n",
        "        \"\"\"Take an action (substituting a drug) and return the next state, reward, and done flag.\"\"\"\n",
        "\n",
        "        if self.state not in self.substitutes or not self.substitutes[self.state]:\n",
        "            return self.state, -1, True\n",
        "\n",
        "        # Select a substitute drug\n",
        "        new_state = random.choice(self.substitutes[self.state])\n",
        "\n",
        "        # Encourage using a substitute\n",
        "        reward = 1 if new_state in self.substitutes else -1\n",
        "\n",
        "        # simulation stops if no substitutes exist\n",
        "        done = new_state not in self.substitutes\n",
        "\n",
        "        # Update state\n",
        "        self.state = new_state\n",
        "\n",
        "        return new_state, reward, done\n",
        "\n",
        "    def render(self):\n",
        "        \"\"\"Print the current state.\"\"\"\n",
        "        print(f\"Current Drug: {self.state}\")\n"
      ],
      "metadata": {
        "id": "PyTfal5B02uK"
      },
      "execution_count": 3,
      "outputs": []
    },
    {
      "cell_type": "code",
      "source": [
        "df_cleaned = pd.read_csv(\"processed_medicine_data.csv\")\n",
        "\n",
        "# Initialize the environment\n",
        "env = DrugPrescriptionEnv(df_cleaned)\n",
        "\n",
        "# random drug\n",
        "state = env.reset()\n",
        "print(f\"Initial State: {state}\")\n",
        "\n",
        "# substituting the drug\n",
        "if state in env.substitutes:\n",
        "    action = random.choice(env.substitutes[state])  #substitute\n",
        "    new_state, reward, done = env.step(action)\n",
        "    print(f\"Action Taken: {state} -> {action}\")\n",
        "    print(f\"New State: {new_state}, Reward: {reward}, Done: {done}\")\n",
        "else:\n",
        "    print(\"No valid substitutes available.\")\n"
      ],
      "metadata": {
        "colab": {
          "base_uri": "https://localhost:8080/"
        },
        "id": "dOP9G8WX2vt8",
        "outputId": "76dc2a03-3bec-4ca4-d21a-6afb3aff8170"
      },
      "execution_count": 5,
      "outputs": [
        {
          "output_type": "stream",
          "name": "stdout",
          "text": [
            "Initial State: Theodep 5 mg/25 mg Tablet\n",
            "Action Taken: Theodep 5 mg/25 mg Tablet -> Depik Forte 5 mg/25 mg Tablet\n",
            "New State: Sycodep 5 mg/25 mg Tablet, Reward: -1, Done: True\n"
          ]
        }
      ]
    },
    {
      "cell_type": "markdown",
      "source": [
        "# Implement Q-Learning for Drug Substitution"
      ],
      "metadata": {
        "id": "oZGJ6AKY41fQ"
      }
    },
    {
      "cell_type": "code",
      "source": [
        "import json\n",
        "\n",
        "class DrugPrescriptionEnv:\n",
        "    def __init__(self, df):\n",
        "        self.df = df\n",
        "        self.states = df.index.tolist()\n",
        "        self.substitutes = {\n",
        "            row.Index: [getattr(row, col) for col in df.columns if \"substitute\" in col and pd.notna(getattr(row, col))]\n",
        "            for row in df.itertuples()\n",
        "        }\n",
        "        self.current_state = None\n",
        "\n",
        "    def reset(self):\n",
        "        \"\"\"Resets environment to a random drug (state)\"\"\"\n",
        "        self.current_state = random.choice(self.states)\n",
        "        return self.current_state\n",
        "\n",
        "    def step(self, action):\n",
        "        \"\"\"Takes a substitution action, returning the new state, reward, and done flag\"\"\"\n",
        "        if action in self.states:\n",
        "            self.current_state = action\n",
        "            reward = -1\n",
        "            done = False\n",
        "        else:\n",
        "            reward = -10\n",
        "            done = True\n",
        "        return self.current_state, reward, done\n",
        "\n",
        "# Initialize environment\n",
        "env = DrugPrescriptionEnv(df_cleaned)\n",
        "\n",
        "# Q-learning Parameters\n",
        "alpha = 0.1\n",
        "gamma = 0.9\n",
        "epsilon = 1.0\n",
        "epsilon_decay = 0.995\n",
        "epsilon_min = 0.1\n",
        "num_episodes = 500\n",
        "max_steps = 50\n",
        "\n",
        "# Initialize Q-table\n",
        "q_table = {drug: {sub: 0 for sub in env.substitutes.get(drug, [])} for drug in env.states}\n",
        "\n",
        "# Q-learning algorithm\n",
        "for episode in range(num_episodes):\n",
        "    state = env.reset()\n",
        "    done = False\n",
        "    steps = 0\n",
        "\n",
        "    while not done and steps < max_steps:\n",
        "        # Explore or Exploit\n",
        "        if random.uniform(0, 1) < epsilon:\n",
        "            action = random.choice(env.substitutes[state]) if env.substitutes[state] else None  # explore\n",
        "        else:\n",
        "            action = max(q_table[state], key=q_table[state].get) if q_table[state] else None  # exploit\n",
        "\n",
        "        if not action:\n",
        "            break\n",
        "\n",
        "        # action\n",
        "        new_state, reward, done = env.step(action)\n",
        "\n",
        "        # Update Q-value using Bellman Equation\n",
        "        old_value = q_table[state][action]\n",
        "        next_max = max(q_table[new_state].values()) if new_state in q_table and q_table[new_state] else 0\n",
        "        q_table[state][action] = (1 - alpha) * old_value + alpha * (reward + gamma * next_max)\n",
        "\n",
        "        state = new_state\n",
        "        steps += 1\n",
        "\n",
        "    epsilon = max(epsilon_min, epsilon * epsilon_decay)\n",
        "\n",
        "    # training progress\n",
        "    if episode % 50 == 0:\n",
        "        print(f\"Episode {episode}/{num_episodes} completed\")\n",
        "\n",
        "print(\"Q-learning training completed!\")\n",
        "\n",
        "# Save Q-table .JSON\n",
        "with open(\"q_table.json\", \"w\") as f:\n",
        "    json.dump(q_table, f)\n",
        "print(\"Q-table saved successfully!\")\n"
      ],
      "metadata": {
        "colab": {
          "base_uri": "https://localhost:8080/"
        },
        "id": "gfWGvK3O4vda",
        "outputId": "41125f2a-125b-424c-c4c8-9313efbbc256"
      },
      "execution_count": 11,
      "outputs": [
        {
          "output_type": "stream",
          "name": "stdout",
          "text": [
            "Episode 0/500 completed\n",
            "Episode 50/500 completed\n",
            "Episode 100/500 completed\n",
            "Episode 150/500 completed\n",
            "Episode 200/500 completed\n",
            "Episode 250/500 completed\n",
            "Episode 300/500 completed\n",
            "Episode 350/500 completed\n",
            "Episode 400/500 completed\n",
            "Episode 450/500 completed\n",
            "Q-learning training completed!\n",
            "Q-table saved successfully!\n"
          ]
        }
      ]
    },
    {
      "cell_type": "markdown",
      "source": [
        "# Testing the Trained Q-Learning Model"
      ],
      "metadata": {
        "id": "AxpEMgFh5Zop"
      }
    },
    {
      "cell_type": "code",
      "source": [
        "state = env.reset()\n",
        "print(f\"Initial Drug: {state}\")\n",
        "\n",
        "for _ in range(5):  # Simulate 5 substitutions\n",
        "    if state not in q_table or not q_table[state]:\n",
        "        print(\"No valid substitutes available.\")\n",
        "        break\n",
        "\n",
        "    # Choose best substitute based on Q-table\n",
        "    action = max(q_table[state], key=q_table[state].get)\n",
        "    new_state, reward, done = env.step(action)\n",
        "\n",
        "    print(f\"Action Taken: {state} -> {action}\")\n",
        "    print(f\"New Drug: {new_state}, Reward: {reward}, Done: {done}\")\n",
        "\n",
        "    state = new_state\n",
        "    if done:\n",
        "        break\n"
      ],
      "metadata": {
        "colab": {
          "base_uri": "https://localhost:8080/"
        },
        "id": "FGEL3sPn5XRq",
        "outputId": "da2ad046-4d58-49c9-b5db-2014fb798f33"
      },
      "execution_count": 12,
      "outputs": [
        {
          "output_type": "stream",
          "name": "stdout",
          "text": [
            "Initial Drug: 79321\n",
            "Action Taken: 79321 -> Alidec 100 Injection\n",
            "New Drug: 79321, Reward: -10, Done: True\n"
          ]
        }
      ]
    }
  ]
}