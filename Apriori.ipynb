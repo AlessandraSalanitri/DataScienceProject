{
  "nbformat": 4,
  "nbformat_minor": 0,
  "metadata": {
    "colab": {
      "provenance": [],
      "authorship_tag": "ABX9TyMBMOmqE+rY49hBj3vwZ2AY",
      "include_colab_link": true
    },
    "kernelspec": {
      "name": "python3",
      "display_name": "Python 3"
    },
    "language_info": {
      "name": "python"
    }
  },
  "cells": [
    {
      "cell_type": "markdown",
      "metadata": {
        "id": "view-in-github",
        "colab_type": "text"
      },
      "source": [
        "<a href=\"https://colab.research.google.com/github/AlessandraSalanitri/DataScienceProject/blob/main/Apriori.ipynb\" target=\"_parent\"><img src=\"https://colab.research.google.com/assets/colab-badge.svg\" alt=\"Open In Colab\"/></a>"
      ]
    },
    {
      "cell_type": "code",
      "execution_count": 1,
      "metadata": {
        "id": "tfzGDVjM0QzD",
        "colab": {
          "base_uri": "https://localhost:8080/"
        },
        "outputId": "83194c8e-3008-4fc5-aba0-fb0dc089c5b3"
      },
      "outputs": [
        {
          "output_type": "stream",
          "name": "stdout",
          "text": [
            "Requirement already satisfied: mlxtend in /usr/local/lib/python3.11/dist-packages (0.23.4)\n",
            "Requirement already satisfied: scipy>=1.2.1 in /usr/local/lib/python3.11/dist-packages (from mlxtend) (1.13.1)\n",
            "Requirement already satisfied: numpy>=1.16.2 in /usr/local/lib/python3.11/dist-packages (from mlxtend) (1.26.4)\n",
            "Requirement already satisfied: pandas>=0.24.2 in /usr/local/lib/python3.11/dist-packages (from mlxtend) (2.2.2)\n",
            "Requirement already satisfied: scikit-learn>=1.3.1 in /usr/local/lib/python3.11/dist-packages (from mlxtend) (1.6.1)\n",
            "Requirement already satisfied: matplotlib>=3.0.0 in /usr/local/lib/python3.11/dist-packages (from mlxtend) (3.10.0)\n",
            "Requirement already satisfied: joblib>=0.13.2 in /usr/local/lib/python3.11/dist-packages (from mlxtend) (1.4.2)\n",
            "Requirement already satisfied: contourpy>=1.0.1 in /usr/local/lib/python3.11/dist-packages (from matplotlib>=3.0.0->mlxtend) (1.3.1)\n",
            "Requirement already satisfied: cycler>=0.10 in /usr/local/lib/python3.11/dist-packages (from matplotlib>=3.0.0->mlxtend) (0.12.1)\n",
            "Requirement already satisfied: fonttools>=4.22.0 in /usr/local/lib/python3.11/dist-packages (from matplotlib>=3.0.0->mlxtend) (4.55.6)\n",
            "Requirement already satisfied: kiwisolver>=1.3.1 in /usr/local/lib/python3.11/dist-packages (from matplotlib>=3.0.0->mlxtend) (1.4.8)\n",
            "Requirement already satisfied: packaging>=20.0 in /usr/local/lib/python3.11/dist-packages (from matplotlib>=3.0.0->mlxtend) (24.2)\n",
            "Requirement already satisfied: pillow>=8 in /usr/local/lib/python3.11/dist-packages (from matplotlib>=3.0.0->mlxtend) (11.1.0)\n",
            "Requirement already satisfied: pyparsing>=2.3.1 in /usr/local/lib/python3.11/dist-packages (from matplotlib>=3.0.0->mlxtend) (3.2.1)\n",
            "Requirement already satisfied: python-dateutil>=2.7 in /usr/local/lib/python3.11/dist-packages (from matplotlib>=3.0.0->mlxtend) (2.8.2)\n",
            "Requirement already satisfied: pytz>=2020.1 in /usr/local/lib/python3.11/dist-packages (from pandas>=0.24.2->mlxtend) (2024.2)\n",
            "Requirement already satisfied: tzdata>=2022.7 in /usr/local/lib/python3.11/dist-packages (from pandas>=0.24.2->mlxtend) (2025.1)\n",
            "Requirement already satisfied: threadpoolctl>=3.1.0 in /usr/local/lib/python3.11/dist-packages (from scikit-learn>=1.3.1->mlxtend) (3.5.0)\n",
            "Requirement already satisfied: six>=1.5 in /usr/local/lib/python3.11/dist-packages (from python-dateutil>=2.7->matplotlib>=3.0.0->mlxtend) (1.17.0)\n",
            "Requirement already satisfied: mlxtend in /usr/local/lib/python3.11/dist-packages (0.23.4)\n",
            "Requirement already satisfied: scipy>=1.2.1 in /usr/local/lib/python3.11/dist-packages (from mlxtend) (1.13.1)\n",
            "Requirement already satisfied: numpy>=1.16.2 in /usr/local/lib/python3.11/dist-packages (from mlxtend) (1.26.4)\n",
            "Requirement already satisfied: pandas>=0.24.2 in /usr/local/lib/python3.11/dist-packages (from mlxtend) (2.2.2)\n",
            "Requirement already satisfied: scikit-learn>=1.3.1 in /usr/local/lib/python3.11/dist-packages (from mlxtend) (1.6.1)\n",
            "Requirement already satisfied: matplotlib>=3.0.0 in /usr/local/lib/python3.11/dist-packages (from mlxtend) (3.10.0)\n",
            "Requirement already satisfied: joblib>=0.13.2 in /usr/local/lib/python3.11/dist-packages (from mlxtend) (1.4.2)\n",
            "Requirement already satisfied: contourpy>=1.0.1 in /usr/local/lib/python3.11/dist-packages (from matplotlib>=3.0.0->mlxtend) (1.3.1)\n",
            "Requirement already satisfied: cycler>=0.10 in /usr/local/lib/python3.11/dist-packages (from matplotlib>=3.0.0->mlxtend) (0.12.1)\n",
            "Requirement already satisfied: fonttools>=4.22.0 in /usr/local/lib/python3.11/dist-packages (from matplotlib>=3.0.0->mlxtend) (4.55.6)\n",
            "Requirement already satisfied: kiwisolver>=1.3.1 in /usr/local/lib/python3.11/dist-packages (from matplotlib>=3.0.0->mlxtend) (1.4.8)\n",
            "Requirement already satisfied: packaging>=20.0 in /usr/local/lib/python3.11/dist-packages (from matplotlib>=3.0.0->mlxtend) (24.2)\n",
            "Requirement already satisfied: pillow>=8 in /usr/local/lib/python3.11/dist-packages (from matplotlib>=3.0.0->mlxtend) (11.1.0)\n",
            "Requirement already satisfied: pyparsing>=2.3.1 in /usr/local/lib/python3.11/dist-packages (from matplotlib>=3.0.0->mlxtend) (3.2.1)\n",
            "Requirement already satisfied: python-dateutil>=2.7 in /usr/local/lib/python3.11/dist-packages (from matplotlib>=3.0.0->mlxtend) (2.8.2)\n",
            "Requirement already satisfied: pytz>=2020.1 in /usr/local/lib/python3.11/dist-packages (from pandas>=0.24.2->mlxtend) (2024.2)\n",
            "Requirement already satisfied: tzdata>=2022.7 in /usr/local/lib/python3.11/dist-packages (from pandas>=0.24.2->mlxtend) (2025.1)\n",
            "Requirement already satisfied: threadpoolctl>=3.1.0 in /usr/local/lib/python3.11/dist-packages (from scikit-learn>=1.3.1->mlxtend) (3.5.0)\n",
            "Requirement already satisfied: six>=1.5 in /usr/local/lib/python3.11/dist-packages (from python-dateutil>=2.7->matplotlib>=3.0.0->mlxtend) (1.17.0)\n"
          ]
        },
        {
          "output_type": "stream",
          "name": "stderr",
          "text": [
            "<ipython-input-1-6470354a9f51>:6: DtypeWarning: Columns (42,43,44,45,46,47,48) have mixed types. Specify dtype option on import or set low_memory=False.\n",
            "  dataset = pd.read_csv('medicine_dataset.csv')\n"
          ]
        },
        {
          "output_type": "stream",
          "name": "stdout",
          "text": [
            "Dataset Preview:\n",
            "   id                      name                     substitute0  \\\n",
            "0   1  augmentin 625 duo tablet  Penciclav 500 mg/125 mg Tablet   \n",
            "1   2       azithral 500 tablet         Zithrocare 500mg Tablet   \n",
            "2   3          ascoril ls syrup                 Solvin LS Syrup   \n",
            "3   4      allegra 120mg tablet                    Lcfex Tablet   \n",
            "4   5            avil 25 tablet              Eralet 25mg Tablet   \n",
            "\n",
            "              substitute1              substitute2            substitute3  \\\n",
            "0  Moxikind-CV 625 Tablet  Moxiforce-CV 625 Tablet     Fightox 625 Tablet   \n",
            "1         Azax 500 Tablet          Zady 500 Tablet  Cazithro 500mg Tablet   \n",
            "2       Ambrodil-LX Syrup        Zerotuss XP Syrup         Capex LS Syrup   \n",
            "3     Etofex 120mg Tablet     Nexofex 120mg Tablet    Fexise 120mg Tablet   \n",
            "4                     NaN                      NaN                    NaN   \n",
            "\n",
            "               substitute4 sideEffect0       sideEffect1     sideEffect2  ...  \\\n",
            "0  Novamox CV 625mg Tablet    Vomiting            Nausea        Diarrhea  ...   \n",
            "1    Trulimax 500mg Tablet    Vomiting            Nausea  Abdominal pain  ...   \n",
            "2          Broxum LS Syrup      Nausea          Vomiting        Diarrhea  ...   \n",
            "3     Histafree 120 Tablet    Headache        Drowsiness       Dizziness  ...   \n",
            "4                      NaN  Sleepiness  Dryness in mouth             NaN  ...   \n",
            "\n",
            "  sideEffect41                                               use0  \\\n",
            "0          NaN                  Treatment of Bacterial infections   \n",
            "1          NaN                  Treatment of Bacterial infections   \n",
            "2          NaN                      Treatment of Cough with mucus   \n",
            "3          NaN  Treatment of Sneezing and runny nose due to al...   \n",
            "4          NaN                   Treatment of Allergic conditions   \n",
            "\n",
            "                               use1 use2 use3 use4  \\\n",
            "0                               NaN  NaN  NaN  NaN   \n",
            "1                               NaN  NaN  NaN  NaN   \n",
            "2                               NaN  NaN  NaN  NaN   \n",
            "3  Treatment of Allergic conditions  NaN  NaN  NaN   \n",
            "4                               NaN  NaN  NaN  NaN   \n",
            "\n",
            "               Chemical Class Habit Forming Therapeutic Class  \\\n",
            "0                         NaN            No   ANTI INFECTIVES   \n",
            "1                  Macrolides            No   ANTI INFECTIVES   \n",
            "2                         NaN            No       RESPIRATORY   \n",
            "3  Diphenylmethane Derivative            No       RESPIRATORY   \n",
            "4       Pyridines Derivatives            No       RESPIRATORY   \n",
            "\n",
            "                             Action Class  \n",
            "0                                     NaN  \n",
            "1                              Macrolides  \n",
            "2                                     NaN  \n",
            "3  H1 Antihistaminics (second Generation)  \n",
            "4   H1 Antihistaminics (First Generation)  \n",
            "\n",
            "[5 rows x 58 columns]\n"
          ]
        }
      ],
      "source": [
        "# Install mlxtend\n",
        "!pip install mlxtend\n",
        "!pip install --upgrade mlxtend\n",
        "import pandas as pd\n",
        "\n",
        "dataset = pd.read_csv('medicine_dataset.csv')\n",
        "\n",
        "print(\"Dataset Preview:\")\n",
        "print(dataset.head())"
      ]
    },
    {
      "cell_type": "code",
      "source": [
        "from mlxtend.frequent_patterns import apriori, association_rules\n",
        "from mlxtend.preprocessing import TransactionEncoder\n",
        "\n",
        "#relevant columns\n",
        "substitute_columns = [\"substitute0\", \"substitute1\", \"substitute2\", \"substitute3\", \"substitute4\"]\n",
        "usage_columns = [\"use0\", \"use1\", \"use2\", \"use3\", \"use4\"]\n",
        "side_effect_columns = [f\"sideEffect{i}\" for i in range(42)]\n",
        "\n",
        "#selected columns\n",
        "columns_of_interest = substitute_columns + usage_columns + side_effect_columns\n",
        "data = dataset[columns_of_interest]\n",
        "\n",
        "#Handle missing values\n",
        "data.fillna(\"Unknown\", inplace=True)\n",
        "\n",
        "#Convert data to transaction format\n",
        "transactions = data.apply(lambda row: [item for item in row if item != \"Unknown\"], axis=1)\n",
        "transactions = transactions.tolist()\n",
        "\n",
        "#transactions for Apriori analysis\n",
        "with open(\"transactions.txt\", \"w\") as f:\n",
        "    for transaction in transactions:\n",
        "        f.write(\",\".join(transaction) + \"\\n\")\n",
        "\n",
        "#processed dataset saved as new dataset\n",
        "processed_data_path = \"processed_medicine_data.csv\"\n",
        "data.to_csv(processed_data_path, index=False)\n",
        "print(f\"Processed dataset saved as {processed_data_path}\")\n",
        "\n",
        "#display a sample\n",
        "print(\"Transaction Data Sample:\")\n",
        "for i, transaction in enumerate(transactions[:5]):\n",
        "    print(f\"Transaction {i + 1}: {transaction}\")\n"
      ],
      "metadata": {
        "id": "sf17AUDl0brI",
        "colab": {
          "base_uri": "https://localhost:8080/"
        },
        "outputId": "5003bb5b-cdf9-43c3-b4f2-33b89cac90ac"
      },
      "execution_count": 2,
      "outputs": [
        {
          "output_type": "stream",
          "name": "stderr",
          "text": [
            "<ipython-input-2-f558a2610252>:14: SettingWithCopyWarning: \n",
            "A value is trying to be set on a copy of a slice from a DataFrame\n",
            "\n",
            "See the caveats in the documentation: https://pandas.pydata.org/pandas-docs/stable/user_guide/indexing.html#returning-a-view-versus-a-copy\n",
            "  data.fillna(\"Unknown\", inplace=True)\n"
          ]
        },
        {
          "output_type": "stream",
          "name": "stdout",
          "text": [
            "Processed dataset saved as processed_medicine_data.csv\n",
            "Transaction Data Sample:\n",
            "Transaction 1: ['Penciclav 500 mg/125 mg Tablet', 'Moxikind-CV 625 Tablet', 'Moxiforce-CV 625 Tablet', 'Fightox 625 Tablet', 'Novamox CV 625mg Tablet', 'Treatment of Bacterial infections', 'Vomiting', 'Nausea', 'Diarrhea']\n",
            "Transaction 2: ['Zithrocare 500mg Tablet', 'Azax 500 Tablet', 'Zady 500 Tablet', 'Cazithro 500mg Tablet', 'Trulimax 500mg Tablet', 'Treatment of Bacterial infections', 'Vomiting', 'Nausea', 'Abdominal pain', 'Diarrhea']\n",
            "Transaction 3: ['Solvin LS Syrup', 'Ambrodil-LX Syrup', 'Zerotuss XP Syrup', 'Capex LS Syrup', 'Broxum LS Syrup', 'Treatment of Cough with mucus', 'Nausea', 'Vomiting', 'Diarrhea', 'Upset stomach', 'Stomach pain', 'Allergic reaction', 'Dizziness', 'Headache', 'Rash', 'Hives', 'Tremors', 'Palpitations', 'Muscle cramp', 'Increased heart rate']\n",
            "Transaction 4: ['Lcfex Tablet', 'Etofex 120mg Tablet', 'Nexofex 120mg Tablet', 'Fexise 120mg Tablet', 'Histafree 120 Tablet', 'Treatment of Sneezing and runny nose due to allergies', 'Treatment of Allergic conditions', 'Headache', 'Drowsiness', 'Dizziness', 'Nausea']\n",
            "Transaction 5: ['Eralet 25mg Tablet', 'Treatment of Allergic conditions', 'Sleepiness', 'Dryness in mouth']\n"
          ]
        }
      ]
    },
    {
      "cell_type": "code",
      "source": [
        "#transactions to proper format\n",
        "te = TransactionEncoder()\n",
        "te_ary = te.fit(transactions).transform(transactions)\n",
        "apriori_df = pd.DataFrame(te_ary, columns=te.columns_)\n",
        "\n",
        "#find frequent itemsets with apriori\n",
        "frequent_itemsets = apriori(apriori_df, min_support=0.05, use_colnames=True)"
      ],
      "metadata": {
        "id": "6iwfuAA25wgU",
        "colab": {
          "base_uri": "https://localhost:8080/"
        },
        "outputId": "a36b9ccb-322d-4a64-81f3-d9142da17419"
      },
      "execution_count": 3,
      "outputs": [
        {
          "output_type": "stream",
          "name": "stderr",
          "text": [
            "/usr/local/lib/python3.11/dist-packages/ipykernel/ipkernel.py:283: DeprecationWarning: `should_run_async` will not call `transform_cell` automatically in the future. Please pass the result to `transformed_cell` argument and any exception that happen during thetransform in `preprocessing_exc_tuple` in IPython 7.17 and above.\n",
            "  and should_run_async(code)\n"
          ]
        }
      ]
    },
    {
      "cell_type": "code",
      "source": [
        "# Extract association rules\n",
        "rules = association_rules(frequent_itemsets, metric=\"lift\", min_threshold=1.0)\n",
        "\n",
        "\n",
        "# results\n",
        "print(\"\\nFrequent Itemsets:\")\n",
        "print(frequent_itemsets.head())\n",
        "\n",
        "print(\"\\nAssociation Rules:\")\n",
        "print(rules.head())"
      ],
      "metadata": {
        "colab": {
          "base_uri": "https://localhost:8080/"
        },
        "id": "xmKWYJmr7zKy",
        "outputId": "30c79038-71b4-49b8-fbb3-08e5a78f880f"
      },
      "execution_count": 4,
      "outputs": [
        {
          "output_type": "stream",
          "name": "stdout",
          "text": [
            "\n",
            "Frequent Itemsets:\n",
            "    support             itemsets\n",
            "0  0.094276       ( Pain relief)\n",
            "1  0.128319     (Abdominal pain)\n",
            "2  0.072037  (Allergic reaction)\n",
            "3  0.050601     (Blurred vision)\n",
            "4  0.117622       (Constipation)\n",
            "\n",
            "Association Rules:\n",
            "      antecedents     consequents  antecedent support  consequent support  \\\n",
            "0  ( Pain relief)      (Diarrhea)            0.094276            0.565209   \n",
            "1      (Diarrhea)  ( Pain relief)            0.565209            0.094276   \n",
            "2  ( Pain relief)        (Nausea)            0.094276            0.634233   \n",
            "3        (Nausea)  ( Pain relief)            0.634233            0.094276   \n",
            "4  ( Pain relief)      (Vomiting)            0.094276            0.404205   \n",
            "\n",
            "    support  confidence      lift  representativity  leverage  conviction  \\\n",
            "0  0.066534    0.705739  1.248634               1.0  0.013249    1.477570   \n",
            "1  0.066534    0.117716  1.248634               1.0  0.013249    1.026568   \n",
            "2  0.082162    0.871501  1.374103               1.0  0.022369    2.846464   \n",
            "3  0.082162    0.129545  1.374103               1.0  0.022369    1.040518   \n",
            "4  0.077440    0.821418  2.032181               1.0  0.039333    3.336251   \n",
            "\n",
            "   zhangs_metric   jaccard  certainty  kulczynski  \n",
            "0       0.219852  0.112209   0.323213    0.411728  \n",
            "1       0.457978  0.112209   0.025880    0.411728  \n",
            "2       0.300591  0.127117   0.648687    0.500523  \n",
            "3       0.744333  0.127117   0.038940    0.500523  \n",
            "4       0.560786  0.183925   0.700262    0.506502  \n"
          ]
        },
        {
          "output_type": "stream",
          "name": "stderr",
          "text": [
            "/usr/local/lib/python3.11/dist-packages/ipykernel/ipkernel.py:283: DeprecationWarning: `should_run_async` will not call `transform_cell` automatically in the future. Please pass the result to `transformed_cell` argument and any exception that happen during thetransform in `preprocessing_exc_tuple` in IPython 7.17 and above.\n",
            "  and should_run_async(code)\n"
          ]
        }
      ]
    }
  ]
}